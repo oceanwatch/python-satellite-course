{
 "cells": [
  {
   "cell_type": "markdown",
   "metadata": {},
   "source": [
    "# Python Tutorial - How to work with OceanWatch data in Python\n",
    "\n",
    "This tutorial will show the steps to grab data in ERDDAP from Python, how to work with NetCDF files in Python and how to make some maps and time-series of sea surface temperature (SST) around the main Hawaiian islands\n",
    "\n",
    "## 1. Downlading data from Python\n",
    "\n",
    "Because ERDDAP includes RESTful services, you can download data listed on any ERDDAP platform from Python using the URL structure. 
    For example, the following page allows you to subset monthly SST data [https://oceanwatch.pifsc.noaa.gov/erddap/griddap/CRW_sst_v1_0_monthly.html](https://oceanwatch.pifsc.noaa.gov/erddap/griddap/CRW_sst_v1_0_monthly.html)\n 
    Select your region and date range of interest, then select the '.nc' (NetCDF) file type and click on \"Just Generate the URL\".\n",
    "\n",
    "![](erddap.png)\n",
    "\n",
    "In this specific example, the URL we generated is :\n",
    "https://oceanwatch.pifsc.noaa.gov/erddap/griddap/CRW_sst_v1_0_monthly.nc?analysed_sst[(2018-01-01T12:00:00Z):1:(2018-12-01T12:00:00Z)][(17):1:(30)][(195):1:(210)]\n",
    "\n",
    "In Python, run the following to download the data using the generated URL :\n"
   ]
  },
  {
   "cell_type": "code",
   "execution_count": 2,
   "metadata": {},
   "outputs": [
    {
     "data": {
      "text/plain": [
       "('sst.nc', <http.client.HTTPMessage at 0x2a195863be0>)"
      ]
     },
     "execution_count": 2,
     "metadata": {},
     "output_type": "execute_result"
    }
   ],
   "source": [
    "import urllib.request\n",
    "url=\"https://oceanwatch.pifsc.noaa.gov/erddap/griddap/CRW_sst_v1_0_monthly.nc?analysed_sst[(2018-01-01T12:00:00Z):1:(2018-12-01T12:00:00Z)][(17):1:(30)][(195):1:(210)]\"\n",
    "urllib.request.urlretrieve(url, \"sst.nc\")"
   ]
  },
  {
   "cell_type": "markdown",
   "metadata": {},
   "source": [
    "# 2. Importing NetCDF4 data in Python\n",
    "\n",
    "Now that we've downloaded the data locally, we can import it and extract our variables of interest.\n",
    "\n",
    "The xarray package makes it very convenient to work with NetCDF files. Documentation is available here:\n",
    "http://xarray.pydata.org/en/stable/why-xarray.html"
   ]
  },
  {
   "cell_type": "code",
   "execution_count": 3,
   "metadata": {},
   "outputs": [],
   "source": [
    "import xarray as xr\n",
    "import netCDF4 as nc"
   ]
  },
  {
   "cell_type": "markdown",
   "metadata": {},
   "source": [
    "- Open the file and load it as an xarray dataset:"
   ]
  },
  {
   "cell_type": "code",
   "execution_count": 4,
   "metadata": {},
   "outputs": [],
   "source": [
    "ds = xr.open_dataset('sst.nc',decode_cf=False)"
   ]
  },
  {
   "cell_type": "markdown",
   "metadata": {},
   "source": [
    "- examine the data structure:"
   ]
  },
  {
   "cell_type": "code",
   "execution_count": 40,
   "metadata": {},
   "outputs": [
    {
     "data": {
      "text/plain": [
       "<xarray.Dataset>\n",
       "Dimensions:       (latitude: 261, longitude: 301, time: 12)\n",
       "Coordinates:\n",
       "  * time          (time) float64 1.515e+09 1.517e+09 ... 1.541e+09 1.544e+09\n",
       "  * latitude      (latitude) float32 17.025 17.075 17.125 ... 29.975 30.025\n",
       "  * longitude     (longitude) float32 195.025 195.075 ... 209.975 210.025\n",
       "Data variables:\n",
       "    analysed_sst  (time, latitude, longitude) float64 ...\n",
       "Attributes:\n",
       "    acknowledgement:            NOAA Coral Reef Watch Program\n",
       "    cdm_data_type:              Grid\n",
       "    comment:                    This product is designed to improve on and re...\n",
       "    contributor_name:           NOAA Coral Reef Watch program\n",
       "    contributor_role:           Collecting source data and deriving products;...\n",
       "    Conventions:                CF-1.6, ACDD-1.3, COARDS\n",
       "    creator_email:              coralreefwatch@noaa.gov\n",
       "    creator_institution:        NOAA/NESDIS/STAR Coral Reef Watch program\n",
       "    creator_name:               NOAA Coral Reef Watch program\n",
       "    creator_type:               group\n",
       "    creator_url:                https://coralreefwatch.noaa.gov/\n",
       "    data_source:                NOAA Daily Global 5km Geo-Polar Blended Night...\n",
       "    date_created:               2018-01-01T00:00:00Z\n",
       "    date_issued:                2018-12-02T15:20:07Z\n",
       "    date_metadata_modified:     2018-09-01T00:00:00Z\n",
       "    date_modified:              2018-01-01T00:00:00Z\n",
       "    Easternmost_Easting:        210.025\n",
       "    geospatial_bounds:          \"POLYGON((-90.0 360.0, 90.0 360.0, 90.0 0.0, ...\n",
       "    geospatial_bounds_crs:      EPSG:32663\n",
       "    geospatial_lat_max:         30.025\n",
       "    geospatial_lat_min:         17.025\n",
       "    geospatial_lat_resolution:  0.049999999999999996\n",
       "    geospatial_lat_units:       degrees_north\n",
       "    geospatial_lon_max:         210.025\n",
       "    geospatial_lon_min:         195.025\n",
       "    geospatial_lon_resolution:  0.05000000000000001\n",
       "    geospatial_lon_units:       degrees_east\n",
       "    history:                    Mon Mar  2 06:00:23 2020: ncatted -O -a geosp...\n",
       "    id:                         CoralTemp-v1.0\n",
       "    infoUrl:                    https://coralreefwatch.noaa.gov/satellite/ble...\n",
       "    institution:                NOAA/NESDIS/STAR Coral Reef Watch program\n",
       "    instrument:                 ATSR-1, ATSR-2, AATSR, AVHRR, AVHRR-2, AVHRR-...\n",
       "    instrument_vocabulary:      NOAA NODC Ocean Archive System Instruments\n",
       "    keywords:                   5km, analysed, analysed_sst, analysis, blende...\n",
       "    keywords_vocabulary:        GCMD Science Keywords\n",
       "    license:                    OSTIA Usage Statement (1985-2002): IMPORTANT ...\n",
       "    metadata_link:              https://coralreefwatch.noaa.gov/satellite/ble...\n",
       "    naming_authority:           gov.noaa.coralreefwatch\n",
       "    NCO:                        4.3.7\n",
       "    nco_openmp_thread_number:   1\n",
       "    Northernmost_Northing:      30.025\n",
       "    platform:                   Ships, drifting buoys, moored buoys, TOGA-TAO...\n",
       "    platform_vocabulary:        NOAA NODC Ocean Archive System Platforms\n",
       "    processing_level:           L4\n",
       "    product_version:            1.0\n",
       "    program:                    NOAA Coral Reef Watch program\n",
       "    project:                    NOAA Coral Reef Watch program\n",
       "    publisher_email:            coralreefwatch@noaa.gov\n",
       "    publisher_institution:      NOAA/NESDIS/STAR Coral Reef Watch program\n",
       "    publisher_name:             NOAA Coral Reef Watch program\n",
       "    publisher_type:             group\n",
       "    publisher_url:              https://coralreefwatch.noaa.gov/\n",
       "    references:                 Donlon, et al., 2011. The Operational Sea Sur...\n",
       "    source:                     OSTIA Sea Surface Temperature Reanalysis (nig...\n",
       "    sourceUrl:                  (local files)\n",
       "    Southernmost_Northing:      17.025\n",
       "    standard_name_vocabulary:   CF Standard Name Table v27\n",
       "    summary:                    CoralTemp 5km gap-free analysed blended sea s...\n",
       "    time_coverage_duration:     P1D\n",
       "    time_coverage_end:          2018-12-01T12:00:00Z\n",
       "    time_coverage_resolution:   P1D\n",
       "    time_coverage_start:        2018-01-01T12:00:00Z\n",
       "    title:                      Sea Surface Temperature, Coral Reef Watch, Co...\n",
       "    Westernmost_Easting:        195.025"
      ]
     },
     "execution_count": 40,
     "metadata": {},
     "output_type": "execute_result"
    }
   ],
   "source": [
    "ds"
   ]
  },
  {
   "cell_type": "markdown",
   "metadata": {},
   "source": [
    "- examine which coordinates and variables are included in the dataset:"
   ]
  },
  {
   "cell_type": "code",
   "execution_count": 41,
   "metadata": {},
   "outputs": [
    {
     "data": {
      "text/plain": [
       "Coordinates:\n",
       "  * time       (time) float64 1.515e+09 1.517e+09 ... 1.541e+09 1.544e+09\n",
       "  * latitude   (latitude) float32 17.025 17.075 17.125 ... 29.925 29.975 30.025\n",
       "  * longitude  (longitude) float32 195.025 195.075 195.125 ... 209.975 210.025"
      ]
     },
     "execution_count": 41,
     "metadata": {},
     "output_type": "execute_result"
    }
   ],
   "source": [
    "ds.coords"
   ]
  },
  {
   "cell_type": "code",
   "execution_count": 5,
   "metadata": {},
   "outputs": [
    {
     "data": {
      "text/plain": [
       "Data variables:\n",
       "    analysed_sst  (time, latitude, longitude) float64 ..."
      ]
     },
     "execution_count": 5,
     "metadata": {},
     "output_type": "execute_result"
    }
   ],
   "source": [
    "ds.data_vars"
   ]
  },
  {
   "cell_type": "markdown",
   "metadata": {},
   "source": [
    "- examine the structure of analysed_sst:"
   ]
  },
  {
   "cell_type": "code",
   "execution_count": 6,
   "metadata": {},
   "outputs": [
    {
     "data": {
      "text/plain": [
       "(12, 261, 301)"
      ]
     },
     "execution_count": 6,
     "metadata": {},
     "output_type": "execute_result"
    }
   ],
   "source": [
    "ds.analysed_sst.shape"
   ]
  },
  {
   "cell_type": "markdown",
   "metadata": {},
   "source": [
    "Our dataset is a 3-D array with 261 rows corresponding to latitudes and 301 columns corresponding to longitudes,  for each of the 12 time steps.\n",
    "\n",
    "- get the dates for each time step:"
   ]
  },
  {
   "cell_type": "code",
   "execution_count": 44,
   "metadata": {},
   "outputs": [
    {
     "data": {
      "text/plain": [
       "<xarray.DataArray 'time' (time: 12)>\n",
       "array([1.514808e+09, 1.517486e+09, 1.519906e+09, 1.522584e+09, 1.525176e+09,\n",
       "       1.527854e+09, 1.530446e+09, 1.533125e+09, 1.535803e+09, 1.538395e+09,\n",
       "       1.541074e+09, 1.543666e+09])\n",
       "Coordinates:\n",
       "  * time     (time) float64 1.515e+09 1.517e+09 1.52e+09 ... 1.541e+09 1.544e+09\n",
       "Attributes:\n",
       "    _CoordinateAxisType:    Time\n",
       "    actual_range:           [1.5148080e+09 1.5436656e+09]\n",
       "    axis:                   T\n",
       "    coverage_content_type:  coordinate\n",
       "    ioos_category:          Time\n",
       "    long_name:              reference time of the sst field\n",
       "    standard_name:          time\n",
       "    time_origin:            01-JAN-1970 00:00:00\n",
       "    units:                  seconds since 1970-01-01T00:00:00Z"
      ]
     },
     "execution_count": 44,
     "metadata": {},
     "output_type": "execute_result"
    }
   ],
   "source": [
    "ds.time"
   ]
  },
  {
   "cell_type": "code",
   "execution_count": 45,
   "metadata": {},
   "outputs": [
    {
     "data": {
      "text/plain": [
       "array([datetime.datetime(2018, 1, 1, 12, 0),\n",
       "       datetime.datetime(2018, 2, 1, 12, 0),\n",
       "       datetime.datetime(2018, 3, 1, 12, 0),\n",
       "       datetime.datetime(2018, 4, 1, 12, 0),\n",
       "       datetime.datetime(2018, 5, 1, 12, 0),\n",
       "       datetime.datetime(2018, 6, 1, 12, 0),\n",
       "       datetime.datetime(2018, 7, 1, 12, 0),\n",
       "       datetime.datetime(2018, 8, 1, 12, 0),\n",
       "       datetime.datetime(2018, 9, 1, 12, 0),\n",
       "       datetime.datetime(2018, 10, 1, 12, 0),\n",
       "       datetime.datetime(2018, 11, 1, 12, 0),\n",
       "       datetime.datetime(2018, 12, 1, 12, 0)], dtype=object)"
      ]
     },
     "execution_count": 45,
     "metadata": {},
     "output_type": "execute_result"
    }
   ],
   "source": [
    "dates=nc.num2date(ds.time,ds.time.units,only_use_cftime_datetimes=False)\n",
    "dates"
   ]
  },
  {
   "cell_type": "markdown",
   "metadata": {},
   "source": [
    "## Working with the extracted data"
   ]
  },
  {
   "cell_type": "markdown",
   "metadata": {},
   "source": [
    "### Creating a map for one time step"
   ]
  },
  {
   "cell_type": "markdown",
   "metadata": {},
   "source": [
    "Let's create a map of SST for January 2018 (our first time step)."
   ]
  },
  {
   "cell_type": "code",
   "execution_count": 47,
   "metadata": {},
   "outputs": [],
   "source": [
    "import pandas as pd\n",
    "import numpy as np\n",
    "from matplotlib import pyplot as plt\n",
    "from matplotlib.colors import LinearSegmentedColormap\n",
    "np.warnings.filterwarnings('ignore')"
   ]
  },
  {
   "cell_type": "markdown",
   "metadata": {},
   "source": [
    "- set some color breaks"
   ]
  },
  {
   "cell_type": "code",
   "execution_count": 49,
   "metadata": {},
   "outputs": [
    {
     "data": {
      "text/plain": [
       "17.922142857142862"
      ]
     },
     "execution_count": 49,
     "metadata": {},
     "output_type": "execute_result"
    }
   ],
   "source": [
    "np.nanmin(ds.analysed_sst)"
   ]
  },
  {
   "cell_type": "code",
   "execution_count": 50,
   "metadata": {},
   "outputs": [
    {
     "data": {
      "text/plain": [
       "28.390645161290323"
      ]
     },
     "execution_count": 50,
     "metadata": {},
     "output_type": "execute_result"
    }
   ],
   "source": [
    "np.nanmax(ds.analysed_sst)"
   ]
  },
  {
   "cell_type": "code",
   "execution_count": null,
   "metadata": {},
   "outputs": [],
   "source": [
    "levs = np.arange(17.5, 28.5, 0.05)"
   ]
  },
  {
   "cell_type": "markdown",
   "metadata": {},
   "source": [
    "- define a color palette"
   ]
  },
  {
   "cell_type": "code",
   "execution_count": 51,
   "metadata": {},
   "outputs": [],
   "source": [
    "jet=[\"blue\", \"#007FFF\", \"cyan\",\"#7FFF7F\", \"yellow\", \"#FF7F00\", \"red\", \"#7F0000\"]"
   ]
  },
  {
   "cell_type": "markdown",
   "metadata": {},
   "source": [
    "- set color scale using the jet palette"
   ]
  },
  {
   "cell_type": "code",
   "execution_count": null,
   "metadata": {},
   "outputs": [],
   "source": [
    "cm = LinearSegmentedColormap.from_list('my_jet', jet, N=len(levs))"
   ]
  },
  {
   "cell_type": "markdown",
   "metadata": {},
   "source": [
    "- plot the SST map"
   ]
  },
  {
   "cell_type": "code",
   "execution_count": 52,
   "metadata": {},
   "outputs": [
    {
     "data": {
      "image/png": "[encoded data removed]",
      "text/plain": [
       "<Figure size 432x288 with 2 Axes>"
      ]
     },
     "metadata": {},
     "output_type": "display_data"
    }
   ],
   "source": [
    "plt.contourf(ds.longitude, ds.latitude, ds.analysed_sst[0,:,:], levs,cmap=cm)\n",
    "#plot the color scale\n",
    "plt.colorbar()\n",
    "#example of how to add points to the map\n",
    "plt.scatter(range(202,206),np.repeat(26,4),c='black')\n",
    "#example of how to add a contour line\n",
    "plt.contour(ds.longitude, ds.latitude, ds.analysed_sst[0,:,:],levels=[20],linewidths=1)\n",
    "#plot title\n",
    "plt.title(\"Monthly Sea Surface Temperature \" + dates[0].strftime('%b %Y'))\n",
    "plt.show()"
   ]
  },
  {
   "cell_type": "markdown",
   "metadata": {},
   "source": [
    "### Plotting a time series"
   ]
  },
  {
   "cell_type": "markdown",
   "metadata": {},
   "source": [
    "Let's pick the following box : 18-23N, 200-206E. We are going to generate a time series of mean SST within that box.\n",
    "\n",
    "- first, let subset our data:"
   ]
  },
  {
   "cell_type": "code",
   "execution_count": 53,
   "metadata": {},
   "outputs": [],
   "source": [
    "da=ds.sel(latitude=slice(18,23), longitude=slice(200,206))"
   ]
  },
  {
   "cell_type": "markdown",
   "metadata": {},
   "source": [
    "- let's plot the subset:"
   ]
  },
  {
   "cell_type": "code",
   "execution_count": 54,
   "metadata": {},
   "outputs": [
    {
     "data": {
      "image/png": "[encoded data removed]",
      "text/plain": [
       "<Figure size 432x288 with 2 Axes>"
      ]
     },
     "metadata": {},
     "output_type": "display_data"
    }
   ],
   "source": [
    "plt.contourf(da.longitude, da.latitude, da.analysed_sst[0,:,:], levs,cmap=cm)\n",
    "plt.colorbar()\n",
    "plt.title(\"Monthly Sea Surface Temperature \" + dates[0].strftime('%b %Y'))\n",
    "plt.show()"
   ]
  },
  {
   "cell_type": "markdown",
   "metadata": {},
   "source": [
    "- let's compute the monthly mean over the bounding region:"
   ]
  },
  {
   "cell_type": "code",
   "execution_count": 55,
   "metadata": {},
   "outputs": [],
   "source": [
    "res=np.mean(da.analysed_sst,axis=(1,2))"
   ]
  },
  {
   "cell_type": "markdown",
   "metadata": {},
   "source": [
    "- let's plot the time-series:"
   ]
  },
  {
   "cell_type": "code",
   "execution_count": 56,
   "metadata": {},
   "outputs": [
    {
     "data": {
      "text/plain": [
       "Text(0,0.5,'SST (ºC)')"
      ]
     },
     "execution_count": 56,
     "metadata": {},
     "output_type": "execute_result"
    },
    {
     "data": {
      "image/png": "[encoded data removed]",
      "text/plain": [
       "<Figure size 576x288 with 1 Axes>"
      ]
     },
     "metadata": {},
     "output_type": "display_data"
    }
   ],
   "source": [
    "plt.figure(figsize=(8,4))\n",
    "plt.scatter(dates,res)\n",
    "plt.ylabel('SST (ºC)')"
   ]
  },
  {
   "cell_type": "markdown",
   "metadata": {},
   "source": [
    "### Creating a map of average SST over a year"
   ]
  },
  {
   "cell_type": "markdown",
   "metadata": {},
   "source": [
    "- let's compute the yearly mean for the region:"
   ]
  },
  {
   "cell_type": "code",
   "execution_count": 57,
   "metadata": {},
   "outputs": [],
   "source": [
    "mean_sst=np.mean(ds.analysed_sst,axis=0)"
   ]
  },
  {
   "cell_type": "code",
   "execution_count": 58,
   "metadata": {},
   "outputs": [
    {
     "data": {
      "text/plain": [
       "(261, 301)"
      ]
     },
     "execution_count": 58,
     "metadata": {},
     "output_type": "execute_result"
    }
   ],
   "source": [
    "mean_sst.shape"
   ]
  },
  {
   "cell_type": "markdown",
   "metadata": {},
   "source": [
    "- let's plot the map of the 2018 average SST in the region:"
   ]
  },
  {
   "cell_type": "code",
   "execution_count": 59,
   "metadata": {},
   "outputs": [
    {
     "data": {
      "image/png": "[encoded data removed]",
      "text/plain": [
       "<Figure size 432x288 with 2 Axes>"
      ]
     },
     "metadata": {},
     "output_type": "display_data"
    }
   ],
   "source": [
    "plt.contourf(ds.longitude, ds.latitude, mean_sst, levs,cmap=cm)\n",
    "plt.colorbar()\n",
    "plt.title(\"Mean SST \" + dates[0].strftime('%Y-%m')+' - '+dates[11].strftime('%Y-%m'))\n",
    "plt.show()"
   ]
  }
 ],
 "metadata": {
  "kernelspec": {
   "display_name": "Python 3",
   "language": "python",
   "name": "python3"
  },
  "language_info": {
   "codemirror_mode": {
    "name": "ipython",
    "version": 3
   },
   "file_extension": ".py",
   "mimetype": "text/x-python",
   "name": "python",
   "nbconvert_exporter": "python",
   "pygments_lexer": "ipython3",
   "version": "3.6.4"
  }
 },
 "nbformat": 4,
 "nbformat_minor": 2
}
